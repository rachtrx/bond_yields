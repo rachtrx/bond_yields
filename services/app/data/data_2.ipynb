{
 "cells": [
  {
   "cell_type": "code",
   "execution_count": 4,
   "metadata": {},
   "outputs": [
    {
     "name": "stdout",
     "output_type": "stream",
     "text": [
      "File is locked, cannot write at the moment.\n"
     ]
    }
   ],
   "source": [
    "import fcntl\n",
    "\n",
    "try:\n",
    "    with open(\"23873.txt\", \"a\") as file:\n",
    "        fcntl.flock(file.fileno(), fcntl.LOCK_EX | fcntl.LOCK_NB)\n",
    "        print(\"Lock acquired, writing to the file...\")\n",
    "        file.write(\"LOL\")\n",
    "except BlockingIOError:\n",
    "    print(\"File is locked, cannot write at the moment.\")"
   ]
  }
 ],
 "metadata": {
  "kernelspec": {
   "display_name": "bonds",
   "language": "python",
   "name": "python3"
  },
  "language_info": {
   "codemirror_mode": {
    "name": "ipython",
    "version": 3
   },
   "file_extension": ".py",
   "mimetype": "text/x-python",
   "name": "python",
   "nbconvert_exporter": "python",
   "pygments_lexer": "ipython3",
   "version": "3.12.0"
  }
 },
 "nbformat": 4,
 "nbformat_minor": 2
}
